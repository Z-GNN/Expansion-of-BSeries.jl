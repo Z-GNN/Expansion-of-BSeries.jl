{
 "cells": [
  {
   "cell_type": "markdown",
   "id": "bf6e467b-040e-4497-8bb7-e181fb825a99",
   "metadata": {},
   "source": [
    "# Checking the symmetry of methods"
   ]
  },
  {
   "cell_type": "markdown",
   "id": "4d44cf6c-bd86-4f4b-ae15-3b588ba32cb6",
   "metadata": {},
   "source": [
    "First, we need to import the packages that will be used in the following code."
   ]
  },
  {
   "cell_type": "code",
   "execution_count": 1,
   "id": "b36d6eb4-bf42-4f76-91f2-3dfda5bbb5b7",
   "metadata": {},
   "outputs": [
    {
     "name": "stderr",
     "output_type": "stream",
     "text": [
      "\u001b[32m\u001b[1m    Updating\u001b[22m\u001b[39m registry at `~/.julia/registries/General.toml`\n",
      "\u001b[32m\u001b[1m   Resolving\u001b[22m\u001b[39m package versions...\n",
      "\u001b[32m\u001b[1m  No Changes\u001b[22m\u001b[39m to `~/.julia/environments/v1.9/Project.toml`\n",
      "\u001b[32m\u001b[1m  No Changes\u001b[22m\u001b[39m to `~/.julia/environments/v1.9/Manifest.toml`\n",
      "\u001b[32m\u001b[1m   Resolving\u001b[22m\u001b[39m package versions...\n",
      "\u001b[32m\u001b[1m  No Changes\u001b[22m\u001b[39m to `~/.julia/environments/v1.9/Project.toml`\n",
      "\u001b[32m\u001b[1m  No Changes\u001b[22m\u001b[39m to `~/.julia/environments/v1.9/Manifest.toml`\n"
     ]
    }
   ],
   "source": [
    "import Pkg; Pkg.add(\"BSeries\")\n",
    "import Pkg; Pkg.add(\"RootedTrees\")"
   ]
  },
  {
   "cell_type": "code",
   "execution_count": 2,
   "id": "37288c5e-18e3-4c9e-963b-d45710b52e83",
   "metadata": {},
   "outputs": [],
   "source": [
    "using BSeries\n",
    "using RootedTrees"
   ]
  },
  {
   "cell_type": "markdown",
   "id": "50e21abe-2228-4ce5-a822-69cb44091d10",
   "metadata": {},
   "source": [
    "## Antipode\n",
    "Since we now that the inverse element in the Butcher group is defined as $a^{-1}=a \\circ S$, where S is the so-called antipode, we need to define this antipode first."
   ]
  },
  {
   "cell_type": "code",
   "execution_count": 3,
   "id": "ff0f14f4-eebc-4a06-9a21-acd5477dd772",
   "metadata": {},
   "outputs": [
    {
     "data": {
      "text/plain": [
       "antipode (generic function with 1 method)"
      ]
     },
     "execution_count": 3,
     "metadata": {},
     "output_type": "execute_result"
    }
   ],
   "source": [
    "function antipode(t::RootedTree)\n",
    "    coproduct = all_splittings(t)\n",
    "    \n",
    "    forests = coproduct[1]\n",
    "    subtrees = coproduct[2]\n",
    "    number = length(forests)\n",
    "    \n",
    "    coeffs = [-1]\n",
    "    trees = [[t]]\n",
    "\n",
    "    for i in 2:(number-1)\n",
    "\n",
    "        leftovertree = subtrees[i]\n",
    "        \n",
    "        for m in antipode(leftovertree)[2]\n",
    "            empty2 = []\n",
    "            #length = length(m)\n",
    "\n",
    "            for tree in forests[i]\n",
    "            push!(empty2, tree)\n",
    "            end\n",
    "            \n",
    "            for n in m\n",
    "                push!(empty2, n)\n",
    "            end\n",
    "            \n",
    "            push!(trees, empty2)\n",
    "        end\n",
    "\n",
    "        for j in antipode(leftovertree)[1]\n",
    "            push!(coeffs, -1*j)\n",
    "        end\n",
    "      \n",
    "    end   \n",
    "        \n",
    "        \n",
    "    \n",
    "    return [coeffs, trees]\n",
    "end"
   ]
  },
  {
   "cell_type": "markdown",
   "id": "fc9efd33-7094-4d3e-b224-0828ba6ce414",
   "metadata": {},
   "source": [
    "Now we are using the antipode for the inverse."
   ]
  },
  {
   "cell_type": "code",
   "execution_count": 4,
   "id": "3a53499a-c146-4024-a9b9-9e796091d27c",
   "metadata": {},
   "outputs": [
    {
     "data": {
      "text/plain": [
       "inverse (generic function with 1 method)"
      ]
     },
     "execution_count": 4,
     "metadata": {},
     "output_type": "execute_result"
    }
   ],
   "source": [
    "function inverse(b::TruncatedBSeries, t::RootedTree)\n",
    "    result = 0\n",
    "    antipode_tree = antipode(t)\n",
    "\n",
    "    k = 1\n",
    "    for i in antipode_tree[1]\n",
    "        btw = i\n",
    "        for j in antipode_tree[2][k]\n",
    "            btw *= b[j]\n",
    "        end\n",
    "        k += 1\n",
    "        result += btw\n",
    "    end\n",
    "    return result\n",
    "    \n",
    "end"
   ]
  },
  {
   "cell_type": "markdown",
   "id": "61c765b6-f5a5-45b2-b0eb-a0a607e7ed96",
   "metadata": {},
   "source": [
    "Finally, we can define the adjoint of a given B-series. The function \"adjoint\" returns the time-reversed method of the inverse B-series."
   ]
  },
  {
   "cell_type": "code",
   "execution_count": 5,
   "id": "534c8205-3cb3-4431-a6d3-2b4be4e7b0b3",
   "metadata": {
    "scrolled": true
   },
   "outputs": [
    {
     "data": {
      "text/plain": [
       "adjoint (generic function with 1 method)"
      ]
     },
     "execution_count": 5,
     "metadata": {},
     "output_type": "execute_result"
    }
   ],
   "source": [
    "function adjoint(b::TruncatedBSeries)\n",
    "    series = TruncatedBSeries{RootedTree{Int, Vector{Int}}, Rational{Int64}}()\n",
    "\n",
    "    series[rootedtree(Int[])] = one(Rational{Int64})\n",
    "    orderofb = order(b)\n",
    "    for o in 1:orderofb\n",
    "        for t in RootedTreeIterator(o)\n",
    "            series[copy(t)] = (-1)^(order(t)) * inverse(b,t)\n",
    "        end\n",
    "    end\n",
    "    return series\n",
    "end"
   ]
  },
  {
   "cell_type": "markdown",
   "id": "5f50ce1c-0c14-45e8-af0d-5c02a70c82fd",
   "metadata": {},
   "source": [
    "## Checking up to what order a method if symmetric"
   ]
  },
  {
   "cell_type": "code",
   "execution_count": 6,
   "id": "5c563efc-58c6-4c46-bce2-cbe7b52b68c5",
   "metadata": {},
   "outputs": [
    {
     "data": {
      "text/plain": [
       "SymmetricOrder (generic function with 1 method)"
      ]
     },
     "execution_count": 6,
     "metadata": {},
     "output_type": "execute_result"
    }
   ],
   "source": [
    "function SymmetricOrder(b::TruncatedBSeries)\n",
    "    \n",
    "    adj = adjoint(b)\n",
    "\n",
    "    for o in 0:order(b)\n",
    "        # Iterate over all rooted trees used as keys in `series`\n",
    "        # of a given order `o`.\n",
    "        for t in RootedTreeIterator(o)\n",
    "            if (b[t] - adj[t]) != 0\n",
    "                return order(t) - 1\n",
    "            end\n",
    "        end\n",
    "    end\n",
    "\n",
    "    return order(b)\n",
    "end"
   ]
  },
  {
   "cell_type": "markdown",
   "id": "f523a05c-45c8-4b2f-8fe3-60a8a0174fb2",
   "metadata": {},
   "source": [
    "## Examples"
   ]
  },
  {
   "cell_type": "markdown",
   "id": "db6f880f-ede7-40d8-a61b-a292f294e763",
   "metadata": {},
   "source": [
    "### Implicit Midpoint\n",
    "The implicit midpoint method is symmetric. Thus, the symmetric order will be always the same as the order we choose for the B-series."
   ]
  },
  {
   "cell_type": "code",
   "execution_count": 7,
   "id": "bbb38531-67ae-4856-8556-3519de724c93",
   "metadata": {},
   "outputs": [],
   "source": [
    "A_im = [1//2 ;;]\n",
    "b_im = [1]\n",
    "c_im = [1//2]\n",
    "rk_im = RungeKuttaMethod(A_im, b_im, c_im)\n",
    "bseries_im = bseries(rk_im, 6);"
   ]
  },
  {
   "cell_type": "code",
   "execution_count": 8,
   "id": "a7804c9e-a69f-4ad2-9530-1bc078cab09e",
   "metadata": {},
   "outputs": [
    {
     "data": {
      "text/plain": [
       "6"
      ]
     },
     "execution_count": 8,
     "metadata": {},
     "output_type": "execute_result"
    }
   ],
   "source": [
    "SymmetricOrder(bseries_im)"
   ]
  },
  {
   "cell_type": "markdown",
   "id": "e5714add-f7c9-4a53-be90-4edeb9b2c188",
   "metadata": {},
   "source": [
    "### Explicit Midpoint\n",
    "The Explicit Midpoint is only symmetric up to order 3."
   ]
  },
  {
   "cell_type": "code",
   "execution_count": 9,
   "id": "a1a67f83-a4e8-436d-8d8f-ae47abb16013",
   "metadata": {},
   "outputs": [],
   "source": [
    "A_em = [0 0; 1//2 0]\n",
    "b_em = [0, 1]\n",
    "c_em = [0, 1//2]\n",
    "rk_em = RungeKuttaMethod(A_em, b_em, c_em)\n",
    "bseries_em = bseries(rk_em, 6);"
   ]
  },
  {
   "cell_type": "code",
   "execution_count": 10,
   "id": "90f0aff1-161a-4a18-9198-371c497e5fee",
   "metadata": {},
   "outputs": [
    {
     "data": {
      "text/plain": [
       "3"
      ]
     },
     "execution_count": 10,
     "metadata": {},
     "output_type": "execute_result"
    }
   ],
   "source": [
    "SymmetricOrder(bseries_em)"
   ]
  },
  {
   "cell_type": "markdown",
   "id": "637cd082-2bd3-4b74-bf13-81f78d5ed0c1",
   "metadata": {},
   "source": [
    "### Implicit and Explicit Euler\n",
    "These two methods are adjoint???."
   ]
  },
  {
   "cell_type": "code",
   "execution_count": 11,
   "id": "32c934ff-c82a-423f-961b-5ca4f9903d1d",
   "metadata": {},
   "outputs": [],
   "source": [
    "A_ex_euler = [0 ;;]\n",
    "b_ex_euler = [1]\n",
    "c_ex_euler = [0]\n",
    "rk_ex_euler = RungeKuttaMethod(A_ex_euler, b_ex_euler, b_ex_euler)\n",
    "bseries_ex_euler = bseries(rk_ex_euler, 5);"
   ]
  },
  {
   "cell_type": "code",
   "execution_count": 12,
   "id": "e004eaea-498d-4163-acde-6bed17a541d6",
   "metadata": {},
   "outputs": [],
   "source": [
    "A_im_euler = [1 ;;]\n",
    "b_im_euler = [1]\n",
    "c_im_euler = [1]\n",
    "rk_im_euler = RungeKuttaMethod(A_im_euler, b_im_euler, b_im_euler)\n",
    "bseries_im_euler = bseries(rk_im_euler, 5);"
   ]
  },
  {
   "cell_type": "markdown",
   "id": "6ca4eced-4661-427a-afce-25f432ab0bc5",
   "metadata": {},
   "source": [
    "We define the error as the difference between a B-series and the adjoint of a different B-series.\n",
    "As you can see, both errors are euqal to zero. This shows again that these two methods are adjoint??."
   ]
  },
  {
   "cell_type": "code",
   "execution_count": 13,
   "id": "5c75c6a1-fb94-4c83-84bd-05bdf41fe394",
   "metadata": {},
   "outputs": [
    {
     "data": {
      "text/plain": [
       "TruncatedBSeries{RootedTree{Int64, Vector{Int64}}, Rational{Int64}} with 18 entries:\n",
       "  RootedTree{Int64}: Int64[]         => 0//1\n",
       "  RootedTree{Int64}: [1]             => 0//1\n",
       "  RootedTree{Int64}: [1, 2]          => 0//1\n",
       "  RootedTree{Int64}: [1, 2, 3]       => 0//1\n",
       "  RootedTree{Int64}: [1, 2, 2]       => 0//1\n",
       "  RootedTree{Int64}: [1, 2, 3, 4]    => 0//1\n",
       "  RootedTree{Int64}: [1, 2, 3, 3]    => 0//1\n",
       "  RootedTree{Int64}: [1, 2, 3, 2]    => 0//1\n",
       "  RootedTree{Int64}: [1, 2, 2, 2]    => 0//1\n",
       "  RootedTree{Int64}: [1, 2, 3, 4, 5] => 0//1\n",
       "  RootedTree{Int64}: [1, 2, 3, 4, 4] => 0//1\n",
       "  RootedTree{Int64}: [1, 2, 3, 4, 3] => 0//1\n",
       "  RootedTree{Int64}: [1, 2, 3, 4, 2] => 0//1\n",
       "  RootedTree{Int64}: [1, 2, 3, 3, 3] => 0//1\n",
       "  RootedTree{Int64}: [1, 2, 3, 3, 2] => 0//1\n",
       "  RootedTree{Int64}: [1, 2, 3, 2, 3] => 0//1\n",
       "  RootedTree{Int64}: [1, 2, 3, 2, 2] => 0//1\n",
       "  RootedTree{Int64}: [1, 2, 2, 2, 2] => 0//1"
      ]
     },
     "execution_count": 13,
     "metadata": {},
     "output_type": "execute_result"
    }
   ],
   "source": [
    "bseries_ex_euler - adjoint(bseries_im_euler)"
   ]
  },
  {
   "cell_type": "code",
   "execution_count": 14,
   "id": "666425a1-8bb3-45ac-b419-f06375880dc1",
   "metadata": {},
   "outputs": [
    {
     "data": {
      "text/plain": [
       "TruncatedBSeries{RootedTree{Int64, Vector{Int64}}, Rational{Int64}} with 18 entries:\n",
       "  RootedTree{Int64}: Int64[]         => 0//1\n",
       "  RootedTree{Int64}: [1]             => 0//1\n",
       "  RootedTree{Int64}: [1, 2]          => 0//1\n",
       "  RootedTree{Int64}: [1, 2, 3]       => 0//1\n",
       "  RootedTree{Int64}: [1, 2, 2]       => 0//1\n",
       "  RootedTree{Int64}: [1, 2, 3, 4]    => 0//1\n",
       "  RootedTree{Int64}: [1, 2, 3, 3]    => 0//1\n",
       "  RootedTree{Int64}: [1, 2, 3, 2]    => 0//1\n",
       "  RootedTree{Int64}: [1, 2, 2, 2]    => 0//1\n",
       "  RootedTree{Int64}: [1, 2, 3, 4, 5] => 0//1\n",
       "  RootedTree{Int64}: [1, 2, 3, 4, 4] => 0//1\n",
       "  RootedTree{Int64}: [1, 2, 3, 4, 3] => 0//1\n",
       "  RootedTree{Int64}: [1, 2, 3, 4, 2] => 0//1\n",
       "  RootedTree{Int64}: [1, 2, 3, 3, 3] => 0//1\n",
       "  RootedTree{Int64}: [1, 2, 3, 3, 2] => 0//1\n",
       "  RootedTree{Int64}: [1, 2, 3, 2, 3] => 0//1\n",
       "  RootedTree{Int64}: [1, 2, 3, 2, 2] => 0//1\n",
       "  RootedTree{Int64}: [1, 2, 2, 2, 2] => 0//1"
      ]
     },
     "execution_count": 14,
     "metadata": {},
     "output_type": "execute_result"
    }
   ],
   "source": [
    "bseries_im_euler - adjoint(bseries_ex_euler)"
   ]
  }
 ],
 "metadata": {
  "kernelspec": {
   "display_name": "Julia 1.9.3",
   "language": "julia",
   "name": "julia-1.9"
  },
  "language_info": {
   "file_extension": ".jl",
   "mimetype": "application/julia",
   "name": "julia",
   "version": "1.9.3"
  }
 },
 "nbformat": 4,
 "nbformat_minor": 5
}

{
 "cells": [
  {
   "cell_type": "markdown",
   "id": "a810515f-d330-4010-9a4c-4bb57329eaa2",
   "metadata": {},
   "source": [
    "# Two-Derivative Runge-Kutta Methods"
   ]
  },
  {
   "cell_type": "markdown",
   "id": "9b517398-0a85-4d64-aa73-de6797faf5e9",
   "metadata": {},
   "source": [
    "First, we need to import the packages that will be used in the following code."
   ]
  },
  {
   "cell_type": "code",
   "execution_count": 1,
   "id": "14f46b26-85a0-47b1-a917-94144d64874c",
   "metadata": {},
   "outputs": [
    {
     "name": "stderr",
     "output_type": "stream",
     "text": [
      "\u001b[32m\u001b[1m   Resolving\u001b[22m\u001b[39m package versions...\n",
      "\u001b[32m\u001b[1m  No Changes\u001b[22m\u001b[39m to `~/.julia/environments/v1.9/Project.toml`\n",
      "\u001b[32m\u001b[1m  No Changes\u001b[22m\u001b[39m to `~/.julia/environments/v1.9/Manifest.toml`\n",
      "\u001b[32m\u001b[1m   Resolving\u001b[22m\u001b[39m package versions...\n",
      "\u001b[32m\u001b[1m  No Changes\u001b[22m\u001b[39m to `~/.julia/environments/v1.9/Project.toml`\n",
      "\u001b[32m\u001b[1m  No Changes\u001b[22m\u001b[39m to `~/.julia/environments/v1.9/Manifest.toml`\n",
      "\u001b[32m\u001b[1m   Resolving\u001b[22m\u001b[39m package versions...\n",
      "\u001b[32m\u001b[1m  No Changes\u001b[22m\u001b[39m to `~/.julia/environments/v1.9/Project.toml`\n",
      "\u001b[32m\u001b[1m  No Changes\u001b[22m\u001b[39m to `~/.julia/environments/v1.9/Manifest.toml`\n"
     ]
    }
   ],
   "source": [
    "import Pkg; Pkg.add(\"BSeries\")\n",
    "import Pkg; Pkg.add(\"LinearAlgebra\")\n",
    "import Pkg; Pkg.add(\"RootedTrees\")\n",
    "# The functions \"elementary_weight\" and \"derivative_weight\" also need to be imported to define them new for these methods \n",
    "import RootedTrees.elementary_weight\n",
    "import RootedTrees.derivative_weight"
   ]
  },
  {
   "cell_type": "code",
   "execution_count": 2,
   "id": "a1beb5c8-37e0-4ae5-a261-7d933e4b18b3",
   "metadata": {},
   "outputs": [
    {
     "name": "stderr",
     "output_type": "stream",
     "text": [
      "WARNING: using BSeries.derivative_weight in module Main conflicts with an existing identifier.\n"
     ]
    }
   ],
   "source": [
    "using BSeries\n",
    "using LinearAlgebra\n",
    "using RootedTrees"
   ]
  },
  {
   "cell_type": "markdown",
   "id": "9698edd9-3564-4a0f-a57c-393479c07844",
   "metadata": {},
   "source": [
    "## Two-Derivative Runge-Kutta Method as a new AbstractTimeIntegrationMethod\n",
    "Note: This is mainly copied from the AdditiveRungeKuttaMethod from Julia package \"bseries.jl\". "
   ]
  },
  {
   "cell_type": "code",
   "execution_count": 3,
   "id": "6f0dd310-f79e-4dac-b7eb-426d199bfc62",
   "metadata": {},
   "outputs": [],
   "source": [
    "abstract type AbstractTimeIntegrationMethod end"
   ]
  },
  {
   "cell_type": "code",
   "execution_count": 4,
   "id": "3d91e3bc-311f-461e-a7e5-f2dfd9b18757",
   "metadata": {},
   "outputs": [],
   "source": [
    "struct TwoDerivativeRungeKuttaMethod{T, RKm <: AbstractVector{<:RungeKuttaMethod{T}}} <:\n",
    "       AbstractTimeIntegrationMethod\n",
    "    rkm::RKm\n",
    "end"
   ]
  },
  {
   "cell_type": "code",
   "execution_count": 5,
   "id": "963159b0-09f3-4a59-9c64-00b1f8feb3e0",
   "metadata": {},
   "outputs": [
    {
     "data": {
      "text/plain": [
       "TwoDerivativeRungeKuttaMethod"
      ]
     },
     "execution_count": 5,
     "metadata": {},
     "output_type": "execute_result"
    }
   ],
   "source": [
    "function TwoDerivativeRungeKuttaMethod(rkm) # if not all RK methods use the same eltype\n",
    "    T = mapreduce(eltype, promote_type, rkm)\n",
    "    As = map(rk -> T.(rk.A), rkm)\n",
    "    bs = map(rk -> T.(rk.b), rkm)\n",
    "    cs = map(rk -> T.(rk.c), rkm)\n",
    "    TwoDerivativeRungeKuttaMethod(As, bs, cs)\n",
    "end"
   ]
  },
  {
   "cell_type": "code",
   "execution_count": 6,
   "id": "e7275b70-6a0a-4939-88e0-67ccf37a89c0",
   "metadata": {},
   "outputs": [
    {
     "data": {
      "text/plain": [
       "TwoDerivativeRungeKuttaMethod"
      ]
     },
     "execution_count": 6,
     "metadata": {},
     "output_type": "execute_result"
    }
   ],
   "source": [
    "function TwoDerivativeRungeKuttaMethod(As, bs, cs = map(A -> vec(sum(A, dims = 2)), As))\n",
    "    rkm = map(RungeKuttaMethod, As, bs, cs)\n",
    "    TwoDerivativeRungeKuttaMethod(rkm)\n",
    "end"
   ]
  },
  {
   "cell_type": "code",
   "execution_count": 7,
   "id": "37e02c13-d64b-4742-a605-f2848e51bcbb",
   "metadata": {},
   "outputs": [],
   "source": [
    "Base.eltype(tdrk::TwoDerivativeRungeKuttaMethod{T}) where {T} = T"
   ]
  },
  {
   "cell_type": "code",
   "execution_count": 8,
   "id": "9c379c2d-0d60-4d31-a3ff-ed3345436bf4",
   "metadata": {},
   "outputs": [],
   "source": [
    "function Base.show(io::IO, tdrk::TwoDerivativeRungeKuttaMethod)\n",
    "    print(io, \"TwoDerivativeRungeKuttaMethod{\", eltype(tdrk), \"} with methods\\n\")\n",
    "    for (idx, rk) in enumerate(tdrk.rkm)\n",
    "        print(io, idx, \". \")\n",
    "        show(io, rk)\n",
    "    end\n",
    "end"
   ]
  },
  {
   "cell_type": "markdown",
   "id": "9ed6d08e-05c6-409f-ae61-7e6ff701e91f",
   "metadata": {},
   "source": [
    "## Elementary Weight of the Two-Derivative Runge-Kutta Method\n",
    "As you can see in my bachelor thesis in section ... we need to define the elementary weight completely new for two-derivative Runge-Kutta methods.\n",
    "This will be splitted in two parts."
   ]
  },
  {
   "cell_type": "markdown",
   "id": "41b3a622-8094-4c51-997f-0d4d85ea8bb5",
   "metadata": {},
   "source": [
    "### Part One\n",
    "Taking a look at section ... in my thesis it is clear that we not only need the 'normal' subtrees of a tree $t$, but also the subtrees of $t$ remaining after removing the tree [1,2] of $t$. Unfortunately, for most of the trees there exist more than one option to remove [1,2] from the tree.\n",
    "This brings us to the function \"specialsubtrees\". It returns a vector of all possibilties of specialsubtrees."
   ]
  },
  {
   "cell_type": "code",
   "execution_count": 9,
   "id": "dab365c9-5e99-4be0-824c-867b902f1abb",
   "metadata": {},
   "outputs": [
    {
     "data": {
      "text/plain": [
       "specialsubtrees (generic function with 1 method)"
      ]
     },
     "execution_count": 9,
     "metadata": {},
     "output_type": "execute_result"
    }
   ],
   "source": [
    "function specialsubtrees(t::RootedTree)\n",
    "    # first we need an overview about the subtrees of t\n",
    "    thesubtrees = subtrees(t)\n",
    "    numberofsubtrees = length(thesubtrees)\n",
    "\n",
    "    # This will be the vector returning all the possibilities of specialsubtrees\n",
    "    listofspecialsubtrees = []\n",
    "\n",
    "    # Using recursion we get the vector of all possibilites of specialsubtees\n",
    "    for i in 1:numberofsubtrees\n",
    "        thesubsubtrees = subtrees(thesubtrees[i])\n",
    "        numberofsubsubtrees = length(thesubsubtrees)\n",
    "\n",
    "        for j in 1:numberofsubtrees\n",
    "            if j == i\n",
    "            elseif j > i\n",
    "                push!(thesubsubtrees, thesubtrees[j])\n",
    "            else j < i\n",
    "                pushfirst!(thesubsubtrees, thesubtrees[i-j])\n",
    "            end\n",
    "        \n",
    "        end\n",
    "\n",
    "        push!(listofspecialsubtrees, thesubsubtrees)\n",
    "    end\n",
    "\n",
    "    return listofspecialsubtrees\n",
    "end"
   ]
  },
  {
   "cell_type": "markdown",
   "id": "ba266ff1-5cce-43bb-8212-9151db7b2d2a",
   "metadata": {},
   "source": [
    "### Part Two\n",
    "Now we can start to define the functions \"elementary_weight\" and \"derivative_weight\"."
   ]
  },
  {
   "cell_type": "code",
   "execution_count": 10,
   "id": "3d2bffb8-2b91-4a7b-819f-09e52aa4d4ea",
   "metadata": {},
   "outputs": [
    {
     "data": {
      "text/plain": [
       "elementary_weight (generic function with 6 methods)"
      ]
     },
     "execution_count": 10,
     "metadata": {},
     "output_type": "execute_result"
    }
   ],
   "source": [
    "function elementary_weight(t::RootedTree, tdrk::TwoDerivativeRungeKuttaMethod)\n",
    "    b1 = (tdrk.rkm)[1].b\n",
    "    b2 = (tdrk.rkm)[2].b\n",
    "    # let a be the elementary weight and n the derivative weight\n",
    "    # Then the elementary weight is calculated by a(t) = b1 * nu(subtrees(t)) + b2 * nu(specialsubtrees(nu))\n",
    "    dot(b1, derivative_weight(t, tdrk)) + dot(b2, derivative_weight(t, 0, tdrk))\n",
    "end"
   ]
  },
  {
   "cell_type": "markdown",
   "id": "bce90b7e-7879-420f-ba29-4847b7217512",
   "metadata": {},
   "source": [
    "Since the elementary weight is calculated as written above, we need two different functions for calculating the elementary weight. The first one calculates it using the subtrees of $t$, the second one using the specialsubtrees of $t$."
   ]
  },
  {
   "cell_type": "code",
   "execution_count": 11,
   "id": "a2743404-2391-4890-8eed-e9c5e1fb5aab",
   "metadata": {},
   "outputs": [
    {
     "data": {
      "text/plain": [
       "derivative_weight (generic function with 5 methods)"
      ]
     },
     "execution_count": 11,
     "metadata": {},
     "output_type": "execute_result"
    }
   ],
   "source": [
    "function derivative_weight(t::RootedTree, tdrk::TwoDerivativeRungeKuttaMethod)\n",
    "    A1 = (tdrk.rkm)[1].A\n",
    "    c1 = (tdrk.rkm)[1].c\n",
    "    A2 = (tdrk.rkm)[2].A\n",
    "    c2 = (tdrk.rkm)[2].c\n",
    "\n",
    "    # This vector has the same length like c1 and c2 do but contains only the element 1\n",
    "    result1 = zero(c1) .+ one(eltype(c1))\n",
    "\n",
    "    if t == rootedtree(Int64[]) || t == rootedtree([1])\n",
    "        return zero(c1) .+ one(eltype(c1))\n",
    "\n",
    "    else\n",
    "        # Using recursion we calculate the derivative weight as defined in the thesis \n",
    "        subtreesoft = subtrees(t)\n",
    "        numberofsubtreesoft = length(subtreesoft)\n",
    "        l = 1\n",
    "        for n in SubtreeIterator(t)\n",
    "            tmp = A1 * derivative_weight(subtreesoft[l], tdrk) .+ A2 * derivative_weight(subtreesoft[l], 0, tdrk)\n",
    "            result1 = result1 .* tmp\n",
    "            l = l + 1\n",
    "        end\n",
    "        return result1\n",
    "    end\n",
    "end"
   ]
  },
  {
   "cell_type": "code",
   "execution_count": 12,
   "id": "5a44bf81-d9d7-43f2-a224-fb52aa0a970a",
   "metadata": {},
   "outputs": [
    {
     "data": {
      "text/plain": [
       "derivative_weight (generic function with 6 methods)"
      ]
     },
     "execution_count": 12,
     "metadata": {},
     "output_type": "execute_result"
    }
   ],
   "source": [
    "function derivative_weight(t::RootedTree, a::Int64, tdrk::TwoDerivativeRungeKuttaMethod)\n",
    "    A1 = (tdrk.rkm)[1].A\n",
    "    c1 = (tdrk.rkm)[1].c\n",
    "    A2 = (tdrk.rkm)[2].A\n",
    "    c2 = (tdrk.rkm)[2].c\n",
    "    emptyresult = zero(c2)\n",
    "    \n",
    "    if t == rootedtree(Int64[])\n",
    "        return zero(c1) .+ one(eltype(c1))\n",
    "    else\n",
    "        \n",
    "        relevanttreecombinations = specialsubtrees(t)\n",
    "        number1 = length(relevanttreecombinations)\n",
    "\n",
    "        # Using recursion we calculate the derivative weight as defined in the thesis\n",
    "        for k in 1:number1\n",
    "            relevantsubtreecombinations = relevanttreecombinations[k]\n",
    "            number2 = length(relevantsubtreecombinations)\n",
    "            result2 = zero(c1) .+ one(eltype(c1))\n",
    "\n",
    "            for m in 1:number2\n",
    "                step = A1 * derivative_weight(relevantsubtreecombinations[m], tdrk) .+ A2 * derivative_weight(relevantsubtreecombinations[m], 0, tdrk)\n",
    "                result2 = result2 .* step\n",
    "            end\n",
    "\n",
    "            emptyresult = emptyresult .+ result2\n",
    "\n",
    "        end\n",
    "\n",
    "        return emptyresult\n",
    "    end\n",
    "end"
   ]
  },
  {
   "cell_type": "markdown",
   "id": "84154a67-06f9-46d1-8f05-82cba32d4b00",
   "metadata": {},
   "source": [
    "## B-Series of the Two-Derivative Runge-Kutta Method\n",
    "This is mainly copied from the creation of the B-series of RungeKuttaMethod from the Julia package \"bseries.jl\"."
   ]
  },
  {
   "cell_type": "code",
   "execution_count": 6,
   "id": "b53813fa-2db8-4e29-bfce-39c6747d56c0",
   "metadata": {},
   "outputs": [
    {
     "data": {
      "text/plain": [
       "bseries (generic function with 1 method)"
      ]
     },
     "execution_count": 6,
     "metadata": {},
     "output_type": "execute_result"
    }
   ],
   "source": [
    "function bseries(tdrk::TwoDerivativeRungeKuttaMethod, order)\n",
    "    V_tmp = eltype(tdrk)\n",
    "    if V_tmp <: Integer\n",
    "        # If people use integer coefficients, they will likely want to have results\n",
    "        # as exact as possible. However, general terms are not integers. Thus, we\n",
    "        # use rationals instead.\n",
    "        V = Rational{V_tmp}\n",
    "    else\n",
    "        V = V_tmp\n",
    "    end\n",
    "    series = TruncatedBSeries{RootedTree{Int, Vector{Int}}, V}()\n",
    "\n",
    "    series[rootedtree(Int[])] = one(V)\n",
    "    for o in 1:order\n",
    "        for t in RootedTreeIterator(o)\n",
    "            #only difference here: we are using the elementary_weight for Two-Derivative Runge-Kutta Methods\n",
    "            series[copy(t)] = elementary_weight(t, tdrk)\n",
    "        end\n",
    "    end\n",
    "\n",
    "    return series\n",
    "end"
   ]
  },
  {
   "cell_type": "code",
   "execution_count": 7,
   "id": "5df1c233-4921-4122-b3b3-9bc9dd5b450d",
   "metadata": {},
   "outputs": [
    {
     "data": {
      "text/plain": [
       "bseries (generic function with 2 methods)"
      ]
     },
     "execution_count": 7,
     "metadata": {},
     "output_type": "execute_result"
    }
   ],
   "source": [
    "function bseries(A::Vector{AbstractMatrix}, b::Vector{AbstractVector}, c::Vector{AbstractVector}, order)\n",
    "    tdrk = TwoDerivativeRungeKuttaMethod(A, b, c)\n",
    "    bseries(tdrk, order)\n",
    "end"
   ]
  }
 ],
 "metadata": {
  "kernelspec": {
   "display_name": "Julia 1.9.3",
   "language": "julia",
   "name": "julia-1.9"
  },
  "language_info": {
   "file_extension": ".jl",
   "mimetype": "application/julia",
   "name": "julia",
   "version": "1.9.3"
  }
 },
 "nbformat": 4,
 "nbformat_minor": 5
}

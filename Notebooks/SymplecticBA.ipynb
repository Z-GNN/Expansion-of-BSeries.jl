{
 "cells": [
  {
   "cell_type": "markdown",
   "id": "42ee176d-8cf3-49ef-a7b4-e324d90a7567",
   "metadata": {},
   "source": [
    "# Checking the symplecticity of a method"
   ]
  },
  {
   "cell_type": "markdown",
   "id": "c44536f9-f4f3-4e00-b7d4-ae48967dd1d5",
   "metadata": {},
   "source": [
    "First, we need to import the packages that will be used in the following code."
   ]
  },
  {
   "cell_type": "code",
   "execution_count": 1,
   "id": "7cfab832-bd34-4d58-b393-f226d40e13e5",
   "metadata": {
    "scrolled": true
   },
   "outputs": [
    {
     "name": "stderr",
     "output_type": "stream",
     "text": [
      "\u001b[32m\u001b[1m   Resolving\u001b[22m\u001b[39m package versions...\n",
      "\u001b[32m\u001b[1m  No Changes\u001b[22m\u001b[39m to `~/.julia/environments/v1.9/Project.toml`\n",
      "\u001b[32m\u001b[1m  No Changes\u001b[22m\u001b[39m to `~/.julia/environments/v1.9/Manifest.toml`\n",
      "\u001b[32m\u001b[1m   Resolving\u001b[22m\u001b[39m package versions...\n",
      "\u001b[32m\u001b[1m  No Changes\u001b[22m\u001b[39m to `~/.julia/environments/v1.9/Project.toml`\n",
      "\u001b[32m\u001b[1m  No Changes\u001b[22m\u001b[39m to `~/.julia/environments/v1.9/Manifest.toml`\n",
      "\u001b[32m\u001b[1m   Resolving\u001b[22m\u001b[39m package versions...\n",
      "\u001b[32m\u001b[1m  No Changes\u001b[22m\u001b[39m to `~/.julia/environments/v1.9/Project.toml`\n",
      "\u001b[32m\u001b[1m  No Changes\u001b[22m\u001b[39m to `~/.julia/environments/v1.9/Manifest.toml`\n"
     ]
    }
   ],
   "source": [
    "import Pkg; Pkg.add(\"BSeries\")\n",
    "import Pkg; Pkg.add(\"RootedTrees\")\n",
    "import Pkg; Pkg.add(\"Latexify\")"
   ]
  },
  {
   "cell_type": "code",
   "execution_count": 2,
   "id": "6a01169b-f3f0-47f5-90da-eb1e0ed12230",
   "metadata": {},
   "outputs": [],
   "source": [
    "using BSeries\n",
    "using RootedTrees\n",
    "using Latexify"
   ]
  },
  {
   "cell_type": "markdown",
   "id": "1f78f10d-3bc7-4acd-b2ca-bbbcf6b38bf2",
   "metadata": {},
   "source": [
    "## The Interesting Part\n",
    "Now I can start to define the functions needed for checking the symplecticity of a method.\n",
    "\n",
    "The ideas mainly come from Sundklakk's master thesis and are only changed a little to translate it from python to julia."
   ]
  },
  {
   "cell_type": "markdown",
   "id": "ad27e90d-05a2-4d67-a784-384115a02981",
   "metadata": {},
   "source": [
    "First, I need a function that checks if the condition is satisfied for pair of trees of a specific order."
   ]
  },
  {
   "cell_type": "code",
   "execution_count": 3,
   "id": "56d70486-622f-4d1f-946d-acc15ee4a2c9",
   "metadata": {},
   "outputs": [
    {
     "data": {
      "text/plain": [
       "SatisfiedForTreesOrder (generic function with 1 method)"
      ]
     },
     "execution_count": 3,
     "metadata": {},
     "output_type": "execute_result"
    }
   ],
   "source": [
    "function SatisfiedForTreesOrder(condition, b, order)\n",
    "    # Checking the condition for a pair of trees\n",
    "    for order1 in range(1, order - 1)\n",
    "        order2 = order - order1\n",
    "        for tree1 in map(copy, RootedTreeIterator(order1))\n",
    "            for tree2 in map(copy, RootedTreeIterator(order2))\n",
    "                if condition(b, tree1, tree2) != true \n",
    "                    return false\n",
    "                end\n",
    "            end\n",
    "        end\n",
    "    end\n",
    "    return true\n",
    "end"
   ]
  },
  {
   "cell_type": "markdown",
   "id": "9dbdc68a-ac12-43d6-93ec-497eaba812c8",
   "metadata": {},
   "source": [
    "Now I define the condition needed for the symplecticity."
   ]
  },
  {
   "cell_type": "code",
   "execution_count": 4,
   "id": "03133dcc-de87-457c-a664-7115eee7c033",
   "metadata": {},
   "outputs": [
    {
     "data": {
      "text/plain": [
       "SymplecticityCondition (generic function with 1 method)"
      ]
     },
     "execution_count": 4,
     "metadata": {},
     "output_type": "execute_result"
    }
   ],
   "source": [
    "function SymplecticityCondition(b::TruncatedBSeries, u, v)\n",
    "    # Defines the condition needed for symplecticity as mentioned in my thesis\n",
    "    return b[u∘v] + b[v∘u] == b[u] * b[v]\n",
    "end"
   ]
  },
  {
   "cell_type": "markdown",
   "id": "341c3f74-f5ea-497d-8fe1-18d3a7936561",
   "metadata": {},
   "source": [
    "Finally, I can define the function that returns the symplecticity order of a method."
   ]
  },
  {
   "cell_type": "code",
   "execution_count": 6,
   "id": "389e8cad-a5e4-4da6-b072-fe8c553b8f35",
   "metadata": {},
   "outputs": [
    {
     "data": {
      "text/plain": [
       "SymplecticityOrder (generic function with 1 method)"
      ]
     },
     "execution_count": 6,
     "metadata": {},
     "output_type": "execute_result"
    }
   ],
   "source": [
    "function SymplecticityOrder(b::TruncatedBSeries)\n",
    "    symporder = 1\n",
    "\n",
    "    # Checks if the method is consistent\n",
    "    if b[rootedtree(Int64[])] != 1\n",
    "        return 0\n",
    "        \n",
    "    else\n",
    "\n",
    "        # This loops checks the symplecticity condition for a pair of trees of a given order\n",
    "        for i in 1:order(b)\n",
    "            in(rootedtree(collect(1:i)), keys(b))\n",
    "            if SatisfiedForTreesOrder(SymplecticityCondition, b, i) == true                        \n",
    "                symporder = i\n",
    "            else \n",
    "                break \n",
    "            end\n",
    "        end\n",
    "    end\n",
    "    return symporder\n",
    "end"
   ]
  },
  {
   "cell_type": "markdown",
   "id": "098c74b9-beff-4880-a6dc-3b14f6262091",
   "metadata": {},
   "source": [
    "# Example\n",
    "## Implicit Midpoint Method\n",
    "A good example is the Gauß Method with 2 stages (Implicit Midpoint).\n",
    "Since the method is not only pseudo-symplectic but indeed symplectic (means we are having a pseudo-symplecticity order $\\infty$), we can choose the order of the B-series as high as we want to since the symplecticity order returned by the function will always be the same as the order of the B-series. "
   ]
  },
  {
   "cell_type": "code",
   "execution_count": 29,
   "id": "112e882d-1683-48db-be87-f8010638b16b",
   "metadata": {},
   "outputs": [
    {
     "data": {
      "text/plain": [
       "TruncatedBSeries{RootedTree{Int64, Vector{Int64}}, Rational{Int64}} with 18 entries:\n",
       "  RootedTree{Int64}: Int64[]         => 1//1\n",
       "  RootedTree{Int64}: [1]             => 1//1\n",
       "  RootedTree{Int64}: [1, 2]          => 1//2\n",
       "  RootedTree{Int64}: [1, 2, 3]       => 1//4\n",
       "  RootedTree{Int64}: [1, 2, 2]       => 1//4\n",
       "  RootedTree{Int64}: [1, 2, 3, 4]    => 1//8\n",
       "  RootedTree{Int64}: [1, 2, 3, 3]    => 1//8\n",
       "  RootedTree{Int64}: [1, 2, 3, 2]    => 1//8\n",
       "  RootedTree{Int64}: [1, 2, 2, 2]    => 1//8\n",
       "  RootedTree{Int64}: [1, 2, 3, 4, 5] => 1//16\n",
       "  RootedTree{Int64}: [1, 2, 3, 4, 4] => 1//16\n",
       "  RootedTree{Int64}: [1, 2, 3, 4, 3] => 1//16\n",
       "  RootedTree{Int64}: [1, 2, 3, 4, 2] => 1//16\n",
       "  RootedTree{Int64}: [1, 2, 3, 3, 3] => 1//16\n",
       "  RootedTree{Int64}: [1, 2, 3, 3, 2] => 1//16\n",
       "  RootedTree{Int64}: [1, 2, 3, 2, 3] => 1//16\n",
       "  RootedTree{Int64}: [1, 2, 3, 2, 2] => 1//16\n",
       "  RootedTree{Int64}: [1, 2, 2, 2, 2] => 1//16"
      ]
     },
     "execution_count": 29,
     "metadata": {},
     "output_type": "execute_result"
    }
   ],
   "source": [
    "A_im_mid = [1//2;;]\n",
    "b_im_mid = [1]\n",
    "c_im_mid = [1//2]\n",
    "rk_im_mid = RungeKuttaMethod(A_im_mid, b_im_mid)\n",
    "bseries_im_mid = bseries(rk_im_mid, 5)"
   ]
  },
  {
   "cell_type": "code",
   "execution_count": 30,
   "id": "9fc86aa7-fd67-41fb-9d02-d1737f019de5",
   "metadata": {},
   "outputs": [
    {
     "data": {
      "text/plain": [
       "5"
      ]
     },
     "execution_count": 30,
     "metadata": {},
     "output_type": "execute_result"
    }
   ],
   "source": [
    "SymplecticityOrder(bseries_im_mid)"
   ]
  },
  {
   "cell_type": "markdown",
   "id": "b3cd7c6e-4d1c-4f88-aed5-c03f693fc8f7",
   "metadata": {},
   "source": [
    "# Radau-IIA method with two stages"
   ]
  },
  {
   "cell_type": "code",
   "execution_count": 31,
   "id": "9f4a39c6-16c7-46f9-b970-25369650986b",
   "metadata": {},
   "outputs": [
    {
     "data": {
      "text/plain": [
       "TruncatedBSeries{RootedTree{Int64, Vector{Int64}}, Rational{Int64}} with 18 entries:\n",
       "  RootedTree{Int64}: Int64[]         => 1//1\n",
       "  RootedTree{Int64}: [1]             => 1//1\n",
       "  RootedTree{Int64}: [1, 2]          => 1//2\n",
       "  RootedTree{Int64}: [1, 2, 3]       => 1//6\n",
       "  RootedTree{Int64}: [1, 2, 2]       => 1//3\n",
       "  RootedTree{Int64}: [1, 2, 3, 4]    => 1//36\n",
       "  RootedTree{Int64}: [1, 2, 3, 3]    => 1//18\n",
       "  RootedTree{Int64}: [1, 2, 3, 2]    => 5//36\n",
       "  RootedTree{Int64}: [1, 2, 2, 2]    => 5//18\n",
       "  RootedTree{Int64}: [1, 2, 3, 4, 5] => -1//108\n",
       "  RootedTree{Int64}: [1, 2, 3, 4, 4] => -1//54\n",
       "  RootedTree{Int64}: [1, 2, 3, 4, 3] => 1//108\n",
       "  RootedTree{Int64}: [1, 2, 3, 4, 2] => 1//27\n",
       "  RootedTree{Int64}: [1, 2, 3, 3, 3] => 1//54\n",
       "  RootedTree{Int64}: [1, 2, 3, 3, 2] => 2//27\n",
       "  RootedTree{Int64}: [1, 2, 3, 2, 3] => 7//108\n",
       "  RootedTree{Int64}: [1, 2, 3, 2, 2] => 7//54\n",
       "  RootedTree{Int64}: [1, 2, 2, 2, 2] => 7//27"
      ]
     },
     "execution_count": 31,
     "metadata": {},
     "output_type": "execute_result"
    }
   ],
   "source": [
    "A_Radau2 = [5//12 -1//12; 3//4 1//4]\n",
    "b_Radau2 = [3//4, 1//4]\n",
    "c_Radau2 = [1//3, 1]\n",
    "rk_Radau2 = RungeKuttaMethod(A_Radau2, b_Radau2)\n",
    "bseries_Radau2 = bseries(rk_Radau2, 5)"
   ]
  },
  {
   "cell_type": "markdown",
   "id": "18ba036e-9d27-40a4-aa01-1e1f028287c5",
   "metadata": {},
   "source": [
    "This method has order 3."
   ]
  },
  {
   "cell_type": "code",
   "execution_count": 32,
   "id": "55b39ce8-bb81-48bf-966a-719a487d9595",
   "metadata": {},
   "outputs": [
    {
     "data": {
      "text/plain": [
       "3"
      ]
     },
     "execution_count": 32,
     "metadata": {},
     "output_type": "execute_result"
    }
   ],
   "source": [
    "order_of_accuracy(bseries_Radau2)"
   ]
  },
  {
   "cell_type": "markdown",
   "id": "6b41a91b-c145-4470-aab1-256626b79a78",
   "metadata": {},
   "source": [
    "The symplecticity order is the same as the order of consistency."
   ]
  },
  {
   "cell_type": "code",
   "execution_count": 33,
   "id": "fc288885-bdc4-4fd4-b1a3-72462f84978b",
   "metadata": {},
   "outputs": [
    {
     "data": {
      "text/plain": [
       "3"
      ]
     },
     "execution_count": 33,
     "metadata": {},
     "output_type": "execute_result"
    }
   ],
   "source": [
    "SymplecticityOrder(bseries_Radau2)"
   ]
  },
  {
   "cell_type": "markdown",
   "id": "f1580561-acd4-42f1-beb6-eee69581410b",
   "metadata": {},
   "source": [
    "## Any other explicit method\n",
    "This method is pseudo-symplectic of order $(2,4)$."
   ]
  },
  {
   "cell_type": "code",
   "execution_count": 10,
   "id": "4a207624-4dcf-4125-8dfd-b488a411d7ce",
   "metadata": {},
   "outputs": [
    {
     "data": {
      "text/plain": [
       "TruncatedBSeries{RootedTree{Int64, Vector{Int64}}, Rational{Int64}} with 18 entries:\n",
       "  RootedTree{Int64}: Int64[]         => 1//1\n",
       "  RootedTree{Int64}: [1]             => 1//1\n",
       "  RootedTree{Int64}: [1, 2]          => 1//2\n",
       "  RootedTree{Int64}: [1, 2, 3]       => 1//8\n",
       "  RootedTree{Int64}: [1, 2, 2]       => 3//8\n",
       "  RootedTree{Int64}: [1, 2, 3, 4]    => 0//1\n",
       "  RootedTree{Int64}: [1, 2, 3, 3]    => 21//160\n",
       "  RootedTree{Int64}: [1, 2, 3, 2]    => 1//8\n",
       "  RootedTree{Int64}: [1, 2, 2, 2]    => 39//160\n",
       "  RootedTree{Int64}: [1, 2, 3, 4, 5] => 0//1\n",
       "  RootedTree{Int64}: [1, 2, 3, 4, 4] => 0//1\n",
       "  RootedTree{Int64}: [1, 2, 3, 4, 3] => 0//1\n",
       "  RootedTree{Int64}: [1, 2, 3, 4, 2] => 0//1\n",
       "  RootedTree{Int64}: [1, 2, 3, 3, 3] => 441//3200\n",
       "  RootedTree{Int64}: [1, 2, 3, 3, 2] => 21//160\n",
       "  RootedTree{Int64}: [1, 2, 3, 2, 3] => 1//192\n",
       "  RootedTree{Int64}: [1, 2, 3, 2, 2] => 1//8\n",
       "  RootedTree{Int64}: [1, 2, 2, 2, 2] => 339//3200"
      ]
     },
     "execution_count": 10,
     "metadata": {},
     "output_type": "execute_result"
    }
   ],
   "source": [
    "k = 3\n",
    "A = [0 0 0;\n",
    "(8*k-3)//(8k-4) 0 0;\n",
    "(16k^2-8*k+1)//(2*k*(8k-3)) (2k-1)//(2*k*(8k-3)) 0]\n",
    "b = [(3k-1)//(8k-3), (-2*(2k-1)^2)//(8k-3), k]\n",
    "c = [0, (8k-3)//(8k-4), 1]\n",
    "rkh = RungeKuttaMethod(A,b)\n",
    "bser = bseries(rkh, 5)"
   ]
  },
  {
   "cell_type": "code",
   "execution_count": 34,
   "id": "eb57e0e4-8a6a-41a7-a332-4ed3889fea24",
   "metadata": {},
   "outputs": [
    {
     "data": {
      "text/plain": [
       "2"
      ]
     },
     "execution_count": 34,
     "metadata": {},
     "output_type": "execute_result"
    }
   ],
   "source": [
    "order_of_accuracy(bser)"
   ]
  },
  {
   "cell_type": "code",
   "execution_count": 11,
   "id": "8ea99512-eaea-49d4-860d-01628147a640",
   "metadata": {},
   "outputs": [
    {
     "data": {
      "text/plain": [
       "4"
      ]
     },
     "execution_count": 11,
     "metadata": {},
     "output_type": "execute_result"
    }
   ],
   "source": [
    "SymplecticityOrder(bser)"
   ]
  }
 ],
 "metadata": {
  "kernelspec": {
   "display_name": "Julia 1.9.3",
   "language": "julia",
   "name": "julia-1.9"
  },
  "language_info": {
   "file_extension": ".jl",
   "mimetype": "application/julia",
   "name": "julia",
   "version": "1.9.3"
  }
 },
 "nbformat": 4,
 "nbformat_minor": 5
}
